{
 "cells": [
  {
   "cell_type": "code",
   "execution_count": 1,
   "metadata": {},
   "outputs": [],
   "source": [
    "import pandas as pd \n",
    "import json, requests\n",
    "import math\n",
    "from functools import reduce\n",
    "import matplotlib.pyplot as plt\n",
    "import numpy as np\n",
    "%matplotlib inline\n",
    "import seaborn as sns\n",
    "from utils import get_whole_data, merge_data"
   ]
  },
  {
   "cell_type": "markdown",
   "metadata": {},
   "source": [
    "## Obliczanie indeksów atrakcyjności dla wypożyczalni i salonu ze względu na powiaty\n",
    "### dla danych z 2020 ponieważ dane dla 2021 nie były kompletne"
   ]
  },
  {
   "cell_type": "markdown",
   "metadata": {},
   "source": [
    "### Funkcja do pobierania danych z API (ponieważ maksymalnie na raz można było pobrać 100 rekordów)"
   ]
  },
  {
   "cell_type": "markdown",
   "metadata": {},
   "source": [
    "### Zmienna odpowiadająca za przeciętne wynagrodzenie brutto:\n",
    "Zmienna ogółem z podgrupy P2497 (Przeciętne miesięczne wynagrodzenia brutto)"
   ]
  },
  {
   "cell_type": "code",
   "execution_count": 2,
   "metadata": {},
   "outputs": [
    {
     "name": "stdout",
     "output_type": "stream",
     "text": [
      "                    area            id  year  Srednie wynagrodzenie brutto\n",
      "0       Powiat bocheński  011212001000  2020                       4523.92\n",
      "1       Powiat krakowski  011212006000  2020                       5788.98\n",
      "2      Powiat miechowski  011212008000  2020                       4415.03\n",
      "3      Powiat myślenicki  011212009000  2020                       4525.20\n",
      "4     Powiat proszowicki  011212014000  2020                       4635.66\n",
      "..                   ...           ...   ...                           ...\n",
      "375     Powiat węgrowski  071427133000  2020                       4589.75\n",
      "376     Powiat m.Siedlce  071427164000  2020                       5187.54\n",
      "377      Powiat grójecki  071427306000  2020                       5088.28\n",
      "378  Powiat sochaczewski  071427328000  2020                       5741.89\n",
      "379   Powiat żyrardowski  071427338000  2020                       5113.05\n",
      "\n",
      "[380 rows x 4 columns]\n"
     ]
    }
   ],
   "source": [
    "dataFrames = []\n",
    "dataFrame = get_whole_data(64428, 5,[2020],\"Srednie wynagrodzenie brutto\")\n",
    "#dataFrame = get_whole_data(\"https://bdl.stat.gov.pl/api/v1/data/by-variable/64428?format=json&unit-level=5&year=2020&page-size=100\",\"Srednie wynagrodzenie brutto\")\n",
    "dataFrames.append(dataFrame)\n",
    "print(dataFrame)"
   ]
  },
  {
   "cell_type": "markdown",
   "metadata": {},
   "source": [
    "### Zmienna odpowiadająca za ilość osób zamieszkałych w powiecie:\n",
    "zmienna (ogółem->miejsce zamieszkania->stan na 31 grudnia-> ogółem) z podgrupy P1336\n"
   ]
  },
  {
   "cell_type": "code",
   "execution_count": 3,
   "metadata": {},
   "outputs": [],
   "source": [
    "dataFrame2 = get_whole_data(60641, 5,[2020],\"Liczba osob zamieszkalych\")\n",
    "#dataFrame2 = get_whole_data(\"https://bdl.stat.gov.pl/api/v1/data/by-variable/60641?format=json&unit-level=5&year=2020&page-size=100\", \"Liczba osob zamieszkalych\")\n",
    "dataFrames.append(dataFrame2)"
   ]
  },
  {
   "cell_type": "markdown",
   "metadata": {},
   "source": [
    "### Zmienna odpowiadająca za średnią wieku mieszkańca  w powiecie:\n",
    "Zmienna ogółem z podgrupy P3814 (Mediana wieku ludności według płci) "
   ]
  },
  {
   "cell_type": "code",
   "execution_count": 4,
   "metadata": {},
   "outputs": [],
   "source": [
    "dataFrame3 = get_whole_data(746289, 5,[2020],\"Srednia wieku\")\n",
    "#dataFrame3 = get_whole_data(\"https://bdl.stat.gov.pl/api/v1/data/by-variable/746289?format=json&unit-level=5&year=2020&page-size=100\", \"Srednia wieku\")\n",
    "dataFrames.append(dataFrame3)\n"
   ]
  },
  {
   "cell_type": "markdown",
   "metadata": {},
   "source": [
    "### Zmienna odpowiadająca za ilość noclegów udzielonych turystom na 1000 mieszkancow w powiecie:\n",
    "zmienna turyści korzystający z noclegów na 1000 ludności (ogółem) z podgrupy P2396"
   ]
  },
  {
   "cell_type": "code",
   "execution_count": 5,
   "metadata": {},
   "outputs": [],
   "source": [
    "dataFrame4 = get_whole_data(60297, 5,[2020],\"ilosc noclegow turystow / 1000 mieszkancow\")\n",
    "#dataFrame4 = get_whole_data(\"https://bdl.stat.gov.pl/api/v1/data/by-variable/60297?format=json&unit-level=5&year=2020&page-size=100\", \"ilosc noclegow turystow / 1000 mieszkancow\")\n",
    "dataFrames.append(dataFrame4)\n"
   ]
  },
  {
   "cell_type": "markdown",
   "metadata": {},
   "source": [
    "### Zmienna odpowiadająca za ścieżki rowerowe w powiecie:\n",
    "Zmienna ścieżki rowerowe (drogi dla rowerów) ogółem z podgrupy P3164"
   ]
  },
  {
   "cell_type": "code",
   "execution_count": 6,
   "metadata": {},
   "outputs": [],
   "source": [
    "dataFrame5 = get_whole_data(288080, 5,[2020],\"Sciezki rowerowe\")\n",
    "#dataFrame5 = get_whole_data(\"https://bdl.stat.gov.pl/api/v1/data/by-variable/288080?format=json&unit-level=5&year=2020&page-size=100\",\"Sciezki rowerowe\")\n",
    "dataFrames.append(dataFrame5)"
   ]
  },
  {
   "cell_type": "markdown",
   "metadata": {},
   "source": [
    "### Zmienna odpowiadająca za liczbę aktywnie ćwiczących mieszkańców w powiecie:\n",
    "(Zmienna ćwiczący ogółem z podgrupy P2155)"
   ]
  },
  {
   "cell_type": "code",
   "execution_count": 7,
   "metadata": {},
   "outputs": [],
   "source": [
    "dataFrame6 = get_whole_data(59628, 5,[2020],\"Liczba osob aktywnych fizycznie\")\n",
    "#dataFrame6 = get_whole_data(\"https://bdl.stat.gov.pl/api/v1/data/by-variable/59628?format=json&unit-level=5&year=2020&page-size=100\", \"Liczba osob aktywnych fizycznie\")\n",
    "dataFrames.append(dataFrame6)"
   ]
  },
  {
   "cell_type": "markdown",
   "metadata": {},
   "source": [
    "### Merge danych w jeden data frame:"
   ]
  },
  {
   "cell_type": "code",
   "execution_count": 8,
   "metadata": {},
   "outputs": [
    {
     "data": {
      "text/plain": [
       "380"
      ]
     },
     "execution_count": 8,
     "metadata": {},
     "output_type": "execute_result"
    }
   ],
   "source": [
    "data = merge_data(dataFrames)\n",
    "len(data)"
   ]
  },
  {
   "cell_type": "code",
   "execution_count": 9,
   "metadata": {},
   "outputs": [
    {
     "data": {
      "text/html": [
       "<div>\n",
       "<style scoped>\n",
       "    .dataframe tbody tr th:only-of-type {\n",
       "        vertical-align: middle;\n",
       "    }\n",
       "\n",
       "    .dataframe tbody tr th {\n",
       "        vertical-align: top;\n",
       "    }\n",
       "\n",
       "    .dataframe thead th {\n",
       "        text-align: right;\n",
       "    }\n",
       "</style>\n",
       "<table border=\"1\" class=\"dataframe\">\n",
       "  <thead>\n",
       "    <tr style=\"text-align: right;\">\n",
       "      <th></th>\n",
       "      <th>area</th>\n",
       "      <th>year</th>\n",
       "      <th>Srednie wynagrodzenie brutto</th>\n",
       "      <th>Liczba osob zamieszkalych</th>\n",
       "      <th>Srednia wieku</th>\n",
       "      <th>ilosc noclegow turystow / 1000 mieszkancow</th>\n",
       "      <th>Sciezki rowerowe</th>\n",
       "      <th>Liczba osob aktywnych fizycznie</th>\n",
       "    </tr>\n",
       "  </thead>\n",
       "  <tbody>\n",
       "    <tr>\n",
       "      <th>0</th>\n",
       "      <td>Powiat bocheński</td>\n",
       "      <td>2020</td>\n",
       "      <td>4523.92</td>\n",
       "      <td>106947</td>\n",
       "      <td>38.6</td>\n",
       "      <td>255.16</td>\n",
       "      <td>28.5</td>\n",
       "      <td>2186</td>\n",
       "    </tr>\n",
       "    <tr>\n",
       "      <th>1</th>\n",
       "      <td>Powiat krakowski</td>\n",
       "      <td>2020</td>\n",
       "      <td>5788.98</td>\n",
       "      <td>281440</td>\n",
       "      <td>40.3</td>\n",
       "      <td>198.84</td>\n",
       "      <td>25.1</td>\n",
       "      <td>9676</td>\n",
       "    </tr>\n",
       "    <tr>\n",
       "      <th>2</th>\n",
       "      <td>Powiat miechowski</td>\n",
       "      <td>2020</td>\n",
       "      <td>4415.03</td>\n",
       "      <td>48464</td>\n",
       "      <td>42.8</td>\n",
       "      <td>332.19</td>\n",
       "      <td>14.3</td>\n",
       "      <td>1086</td>\n",
       "    </tr>\n",
       "    <tr>\n",
       "      <th>3</th>\n",
       "      <td>Powiat myślenicki</td>\n",
       "      <td>2020</td>\n",
       "      <td>4525.20</td>\n",
       "      <td>127972</td>\n",
       "      <td>38.0</td>\n",
       "      <td>145.22</td>\n",
       "      <td>12.5</td>\n",
       "      <td>5046</td>\n",
       "    </tr>\n",
       "    <tr>\n",
       "      <th>4</th>\n",
       "      <td>Powiat proszowicki</td>\n",
       "      <td>2020</td>\n",
       "      <td>4635.66</td>\n",
       "      <td>43057</td>\n",
       "      <td>41.4</td>\n",
       "      <td>62.40</td>\n",
       "      <td>0.2</td>\n",
       "      <td>641</td>\n",
       "    </tr>\n",
       "  </tbody>\n",
       "</table>\n",
       "</div>"
      ],
      "text/plain": [
       "                 area  year  Srednie wynagrodzenie brutto  \\\n",
       "0    Powiat bocheński  2020                       4523.92   \n",
       "1    Powiat krakowski  2020                       5788.98   \n",
       "2   Powiat miechowski  2020                       4415.03   \n",
       "3   Powiat myślenicki  2020                       4525.20   \n",
       "4  Powiat proszowicki  2020                       4635.66   \n",
       "\n",
       "   Liczba osob zamieszkalych  Srednia wieku  \\\n",
       "0                     106947           38.6   \n",
       "1                     281440           40.3   \n",
       "2                      48464           42.8   \n",
       "3                     127972           38.0   \n",
       "4                      43057           41.4   \n",
       "\n",
       "   ilosc noclegow turystow / 1000 mieszkancow  Sciezki rowerowe  \\\n",
       "0                                      255.16              28.5   \n",
       "1                                      198.84              25.1   \n",
       "2                                      332.19              14.3   \n",
       "3                                      145.22              12.5   \n",
       "4                                       62.40               0.2   \n",
       "\n",
       "   Liczba osob aktywnych fizycznie  \n",
       "0                             2186  \n",
       "1                             9676  \n",
       "2                             1086  \n",
       "3                             5046  \n",
       "4                              641  "
      ]
     },
     "execution_count": 9,
     "metadata": {},
     "output_type": "execute_result"
    }
   ],
   "source": [
    "data.head()"
   ]
  },
  {
   "cell_type": "markdown",
   "metadata": {},
   "source": [
    "### Data cleaning\n",
    "W zbiorze danych nie było żadnych brakujących danych jak i również nie wiarygodnych. Ponadto dane pochodziły z zaufanego źródła więc dalszy data cleaning nie był potrzebny"
   ]
  },
  {
   "cell_type": "markdown",
   "metadata": {},
   "source": [
    "### Obliczanie indeksu atrakcyjności wypożyczalni\n",
    "Podczas obliczania indeksu atrakcyjności wypożyczalni wzięto pod uwagę ilość roczną turystów oraz ilość mieszkańców powiatu i ich zarobki. Jako ilość turystów wzięto liczbę udzielonych noclegów dla turystów na 1000 mieszkańców, ponieważ nie istniał zbiór danych który podawałby wprost liczbę turystów w roku w danym powiecie. Aby uzyskać roczną liczbę turystów podzielono liczbę  udzielonych noclegów dla turystów na 1000 mieszkańców przez 1000 a następnie pomnożono ją przez liczbę osób zamieszkałych w powiecie. Przyjęto, że co setny turysta oraz co tysięczny mieszkaniec powiatu zdecydują się na wypożyczenie rowera, ponadto mieszkańca wypożyczającego rower pomnożono przez średnią wartość zarobków w powiecie z wagą 0.001 aby rozróżnić różną moc nabywczą mieszkańców. Wzór na obliczanie indeksu:\n",
    "#### indeks =  0.01 \\* ilość turystów +0.001 \\* średnie wynagrodzenie\\* 0.001 \\* liczba mieszkańców "
   ]
  },
  {
   "cell_type": "code",
   "execution_count": 10,
   "metadata": {},
   "outputs": [],
   "source": [
    "data[\"Indeks atrakcyjnosci wypozyczalni\"] = 0.01 * data[\"ilosc noclegow turystow / 1000 mieszkancow\"]/1000*data['Liczba osob zamieszkalych'] + 0.001*data['Srednie wynagrodzenie brutto']*0.001*data['Liczba osob zamieszkalych']"
   ]
  },
  {
   "cell_type": "markdown",
   "metadata": {},
   "source": [
    "### Normalizacja wartości indeksu metodą min-max tak aby wartości mieściły się w przedziale [0-100]"
   ]
  },
  {
   "cell_type": "code",
   "execution_count": 11,
   "metadata": {},
   "outputs": [],
   "source": [
    "mx = data[\"Indeks atrakcyjnosci wypozyczalni\"].max()\n",
    "mn = data[\"Indeks atrakcyjnosci wypozyczalni\"].min()\n",
    "data[\"Indeks atrakcyjnosci wypozyczalni\"] = ((data[\"Indeks atrakcyjnosci wypozyczalni\"] - mn)/(mx-mn))*100"
   ]
  },
  {
   "cell_type": "code",
   "execution_count": 12,
   "metadata": {
    "scrolled": true
   },
   "outputs": [
    {
     "data": {
      "text/html": [
       "<div>\n",
       "<style scoped>\n",
       "    .dataframe tbody tr th:only-of-type {\n",
       "        vertical-align: middle;\n",
       "    }\n",
       "\n",
       "    .dataframe tbody tr th {\n",
       "        vertical-align: top;\n",
       "    }\n",
       "\n",
       "    .dataframe thead th {\n",
       "        text-align: right;\n",
       "    }\n",
       "</style>\n",
       "<table border=\"1\" class=\"dataframe\">\n",
       "  <thead>\n",
       "    <tr style=\"text-align: right;\">\n",
       "      <th></th>\n",
       "      <th>area</th>\n",
       "      <th>year</th>\n",
       "      <th>Srednie wynagrodzenie brutto</th>\n",
       "      <th>Liczba osob zamieszkalych</th>\n",
       "      <th>Srednia wieku</th>\n",
       "      <th>ilosc noclegow turystow / 1000 mieszkancow</th>\n",
       "      <th>Sciezki rowerowe</th>\n",
       "      <th>Liczba osob aktywnych fizycznie</th>\n",
       "      <th>Indeks atrakcyjnosci wypozyczalni</th>\n",
       "    </tr>\n",
       "  </thead>\n",
       "  <tbody>\n",
       "    <tr>\n",
       "      <th>338</th>\n",
       "      <td>Powiat m. st. Warszawa</td>\n",
       "      <td>2020</td>\n",
       "      <td>7147.46</td>\n",
       "      <td>1794166</td>\n",
       "      <td>42.0</td>\n",
       "      <td>737.59</td>\n",
       "      <td>676.1</td>\n",
       "      <td>61699</td>\n",
       "      <td>100.000000</td>\n",
       "    </tr>\n",
       "    <tr>\n",
       "      <th>6</th>\n",
       "      <td>Powiat m.Kraków</td>\n",
       "      <td>2020</td>\n",
       "      <td>6482.24</td>\n",
       "      <td>779966</td>\n",
       "      <td>41.5</td>\n",
       "      <td>1047.65</td>\n",
       "      <td>252.8</td>\n",
       "      <td>26854</td>\n",
       "      <td>50.493777</td>\n",
       "    </tr>\n",
       "    <tr>\n",
       "      <th>157</th>\n",
       "      <td>Powiat m.Wrocław</td>\n",
       "      <td>2020</td>\n",
       "      <td>6140.64</td>\n",
       "      <td>641928</td>\n",
       "      <td>41.7</td>\n",
       "      <td>924.43</td>\n",
       "      <td>360.4</td>\n",
       "      <td>27236</td>\n",
       "      <td>37.562750</td>\n",
       "    </tr>\n",
       "    <tr>\n",
       "      <th>207</th>\n",
       "      <td>Powiat m.Gdańsk</td>\n",
       "      <td>2020</td>\n",
       "      <td>6490.53</td>\n",
       "      <td>470805</td>\n",
       "      <td>42.0</td>\n",
       "      <td>1357.13</td>\n",
       "      <td>203.0</td>\n",
       "      <td>10930</td>\n",
       "      <td>35.900409</td>\n",
       "    </tr>\n",
       "    <tr>\n",
       "      <th>21</th>\n",
       "      <td>Powiat tatrzański</td>\n",
       "      <td>2020</td>\n",
       "      <td>4655.05</td>\n",
       "      <td>68049</td>\n",
       "      <td>40.5</td>\n",
       "      <td>10646.46</td>\n",
       "      <td>8.2</td>\n",
       "      <td>2154</td>\n",
       "      <td>28.632227</td>\n",
       "    </tr>\n",
       "    <tr>\n",
       "      <th>106</th>\n",
       "      <td>Powiat m.Poznań</td>\n",
       "      <td>2020</td>\n",
       "      <td>6104.97</td>\n",
       "      <td>532048</td>\n",
       "      <td>42.2</td>\n",
       "      <td>754.11</td>\n",
       "      <td>276.0</td>\n",
       "      <td>18044</td>\n",
       "      <td>27.469950</td>\n",
       "    </tr>\n",
       "    <tr>\n",
       "      <th>238</th>\n",
       "      <td>Powiat m.Łódź</td>\n",
       "      <td>2020</td>\n",
       "      <td>5510.99</td>\n",
       "      <td>672185</td>\n",
       "      <td>45.4</td>\n",
       "      <td>363.82</td>\n",
       "      <td>177.0</td>\n",
       "      <td>13851</td>\n",
       "      <td>23.185291</td>\n",
       "    </tr>\n",
       "  </tbody>\n",
       "</table>\n",
       "</div>"
      ],
      "text/plain": [
       "                       area  year  Srednie wynagrodzenie brutto  \\\n",
       "338  Powiat m. st. Warszawa  2020                       7147.46   \n",
       "6           Powiat m.Kraków  2020                       6482.24   \n",
       "157        Powiat m.Wrocław  2020                       6140.64   \n",
       "207         Powiat m.Gdańsk  2020                       6490.53   \n",
       "21        Powiat tatrzański  2020                       4655.05   \n",
       "106         Powiat m.Poznań  2020                       6104.97   \n",
       "238           Powiat m.Łódź  2020                       5510.99   \n",
       "\n",
       "     Liczba osob zamieszkalych  Srednia wieku  \\\n",
       "338                    1794166           42.0   \n",
       "6                       779966           41.5   \n",
       "157                     641928           41.7   \n",
       "207                     470805           42.0   \n",
       "21                       68049           40.5   \n",
       "106                     532048           42.2   \n",
       "238                     672185           45.4   \n",
       "\n",
       "     ilosc noclegow turystow / 1000 mieszkancow  Sciezki rowerowe  \\\n",
       "338                                      737.59             676.1   \n",
       "6                                       1047.65             252.8   \n",
       "157                                      924.43             360.4   \n",
       "207                                     1357.13             203.0   \n",
       "21                                     10646.46               8.2   \n",
       "106                                      754.11             276.0   \n",
       "238                                      363.82             177.0   \n",
       "\n",
       "     Liczba osob aktywnych fizycznie  Indeks atrakcyjnosci wypozyczalni  \n",
       "338                            61699                         100.000000  \n",
       "6                              26854                          50.493777  \n",
       "157                            27236                          37.562750  \n",
       "207                            10930                          35.900409  \n",
       "21                              2154                          28.632227  \n",
       "106                            18044                          27.469950  \n",
       "238                            13851                          23.185291  "
      ]
     },
     "execution_count": 12,
     "metadata": {},
     "output_type": "execute_result"
    }
   ],
   "source": [
    "data.sort_values(by='Indeks atrakcyjnosci wypozyczalni', ascending=False).head(7)"
   ]
  },
  {
   "cell_type": "markdown",
   "metadata": {},
   "source": [
    "### Obliczanie indeksu atrakcyjności salonu\n",
    "Podczas obliczania indeksu atrakcyjności salonu główną role odgrywa ilość jak i średni zarobek mieszkańców. Przyjęto że 5 na 10000 mieszkańców kupi taki rower ponadto każdego kupującego pomnożono przez średni zarobek w powiecie z wagą 0.001. Kolejną wartością wziętą pod uwagę to ilość turystów która została wyliczona w tak sam sposób jak przy atrakcyjności wypożyczalni tylko, że w tym przypadku przyjęto, że 1 na 100000 turytów kupi taki rower. Dodatkowo podczas wyliczania wartości indeksu pod uwagę wzięto średni wiek mieszkanców wychodząc z założenia, że młodsze osoby chętniej kupią taki rower. Kolejną zmienna wziętą pod uwagę jest liczba aktywnych fizycznie mieszkańców, ponieważ założono, że takie osoby będą bardziej skłonne do kupna takiego roweru. Ostatnią zmienną wziętą pod uwagę podczas wyliczania indeksu były ścieżki rowerowe w powiecie, ponieważ większa liczba ich może wpłynąć pozytywnie na decyzję o zakupie roweru. Wzór na obliczanie indeksu:\n",
    "#### indeks = 0.001 \\* średnie wynagrodzenie \\* 0.0005 \\* liczba mieszkańców + 0.00001 \\* ilość turystów + 1/(średni wiek) \\* 1000 + liczba aktywnie fizycznie mieszkańców \\* 0.003 + ścieżki rowerowe / 2"
   ]
  },
  {
   "cell_type": "code",
   "execution_count": 13,
   "metadata": {},
   "outputs": [],
   "source": [
    "data[\"Indeks atrakcyjnosci salonu\"] =  0.001*data['Srednie wynagrodzenie brutto']*0.0005*data['Liczba osob zamieszkalych'] + 0.00001 * data[\"ilosc noclegow turystow / 1000 mieszkancow\"]/1000*data['Liczba osob zamieszkalych'] +1/data[\"Srednia wieku\"]*1000+data['Sciezki rowerowe']/2 + data['Liczba osob aktywnych fizycznie']*0.003"
   ]
  },
  {
   "cell_type": "markdown",
   "metadata": {},
   "source": [
    "### Normalizacja wartości indeksu metodą min-max tak aby wartości mieściły się w przedziale [0-100]"
   ]
  },
  {
   "cell_type": "code",
   "execution_count": 14,
   "metadata": {},
   "outputs": [],
   "source": [
    "mx = data[\"Indeks atrakcyjnosci salonu\"].max()\n",
    "mn = data[\"Indeks atrakcyjnosci salonu\"].min()\n",
    "data[\"Indeks atrakcyjnosci salonu\"] = ((data[\"Indeks atrakcyjnosci salonu\"] - mn)/(mx-mn))*100"
   ]
  },
  {
   "cell_type": "code",
   "execution_count": 15,
   "metadata": {},
   "outputs": [
    {
     "data": {
      "text/html": [
       "<div>\n",
       "<style scoped>\n",
       "    .dataframe tbody tr th:only-of-type {\n",
       "        vertical-align: middle;\n",
       "    }\n",
       "\n",
       "    .dataframe tbody tr th {\n",
       "        vertical-align: top;\n",
       "    }\n",
       "\n",
       "    .dataframe thead th {\n",
       "        text-align: right;\n",
       "    }\n",
       "</style>\n",
       "<table border=\"1\" class=\"dataframe\">\n",
       "  <thead>\n",
       "    <tr style=\"text-align: right;\">\n",
       "      <th></th>\n",
       "      <th>area</th>\n",
       "      <th>year</th>\n",
       "      <th>Srednie wynagrodzenie brutto</th>\n",
       "      <th>Liczba osob zamieszkalych</th>\n",
       "      <th>Srednia wieku</th>\n",
       "      <th>ilosc noclegow turystow / 1000 mieszkancow</th>\n",
       "      <th>Sciezki rowerowe</th>\n",
       "      <th>Liczba osob aktywnych fizycznie</th>\n",
       "      <th>Indeks atrakcyjnosci wypozyczalni</th>\n",
       "      <th>Indeks atrakcyjnosci salonu</th>\n",
       "    </tr>\n",
       "  </thead>\n",
       "  <tbody>\n",
       "    <tr>\n",
       "      <th>338</th>\n",
       "      <td>Powiat m. st. Warszawa</td>\n",
       "      <td>2020</td>\n",
       "      <td>7147.46</td>\n",
       "      <td>1794166</td>\n",
       "      <td>42.0</td>\n",
       "      <td>737.59</td>\n",
       "      <td>676.1</td>\n",
       "      <td>61699</td>\n",
       "      <td>100.000000</td>\n",
       "      <td>100.000000</td>\n",
       "    </tr>\n",
       "    <tr>\n",
       "      <th>6</th>\n",
       "      <td>Powiat m.Kraków</td>\n",
       "      <td>2020</td>\n",
       "      <td>6482.24</td>\n",
       "      <td>779966</td>\n",
       "      <td>41.5</td>\n",
       "      <td>1047.65</td>\n",
       "      <td>252.8</td>\n",
       "      <td>26854</td>\n",
       "      <td>50.493777</td>\n",
       "      <td>39.034348</td>\n",
       "    </tr>\n",
       "    <tr>\n",
       "      <th>157</th>\n",
       "      <td>Powiat m.Wrocław</td>\n",
       "      <td>2020</td>\n",
       "      <td>6140.64</td>\n",
       "      <td>641928</td>\n",
       "      <td>41.7</td>\n",
       "      <td>924.43</td>\n",
       "      <td>360.4</td>\n",
       "      <td>27236</td>\n",
       "      <td>37.562750</td>\n",
       "      <td>31.720466</td>\n",
       "    </tr>\n",
       "    <tr>\n",
       "      <th>238</th>\n",
       "      <td>Powiat m.Łódź</td>\n",
       "      <td>2020</td>\n",
       "      <td>5510.99</td>\n",
       "      <td>672185</td>\n",
       "      <td>45.4</td>\n",
       "      <td>363.82</td>\n",
       "      <td>177.0</td>\n",
       "      <td>13851</td>\n",
       "      <td>23.185291</td>\n",
       "      <td>28.008471</td>\n",
       "    </tr>\n",
       "    <tr>\n",
       "      <th>106</th>\n",
       "      <td>Powiat m.Poznań</td>\n",
       "      <td>2020</td>\n",
       "      <td>6104.97</td>\n",
       "      <td>532048</td>\n",
       "      <td>42.2</td>\n",
       "      <td>754.11</td>\n",
       "      <td>276.0</td>\n",
       "      <td>18044</td>\n",
       "      <td>27.469950</td>\n",
       "      <td>25.647798</td>\n",
       "    </tr>\n",
       "    <tr>\n",
       "      <th>207</th>\n",
       "      <td>Powiat m.Gdańsk</td>\n",
       "      <td>2020</td>\n",
       "      <td>6490.53</td>\n",
       "      <td>470805</td>\n",
       "      <td>42.0</td>\n",
       "      <td>1357.13</td>\n",
       "      <td>203.0</td>\n",
       "      <td>10930</td>\n",
       "      <td>35.900409</td>\n",
       "      <td>23.450737</td>\n",
       "    </tr>\n",
       "    <tr>\n",
       "      <th>120</th>\n",
       "      <td>Powiat m.Szczecin</td>\n",
       "      <td>2020</td>\n",
       "      <td>5695.84</td>\n",
       "      <td>398255</td>\n",
       "      <td>43.7</td>\n",
       "      <td>552.45</td>\n",
       "      <td>148.6</td>\n",
       "      <td>12486</td>\n",
       "      <td>16.697462</td>\n",
       "      <td>17.341849</td>\n",
       "    </tr>\n",
       "  </tbody>\n",
       "</table>\n",
       "</div>"
      ],
      "text/plain": [
       "                       area  year  Srednie wynagrodzenie brutto  \\\n",
       "338  Powiat m. st. Warszawa  2020                       7147.46   \n",
       "6           Powiat m.Kraków  2020                       6482.24   \n",
       "157        Powiat m.Wrocław  2020                       6140.64   \n",
       "238           Powiat m.Łódź  2020                       5510.99   \n",
       "106         Powiat m.Poznań  2020                       6104.97   \n",
       "207         Powiat m.Gdańsk  2020                       6490.53   \n",
       "120       Powiat m.Szczecin  2020                       5695.84   \n",
       "\n",
       "     Liczba osob zamieszkalych  Srednia wieku  \\\n",
       "338                    1794166           42.0   \n",
       "6                       779966           41.5   \n",
       "157                     641928           41.7   \n",
       "238                     672185           45.4   \n",
       "106                     532048           42.2   \n",
       "207                     470805           42.0   \n",
       "120                     398255           43.7   \n",
       "\n",
       "     ilosc noclegow turystow / 1000 mieszkancow  Sciezki rowerowe  \\\n",
       "338                                      737.59             676.1   \n",
       "6                                       1047.65             252.8   \n",
       "157                                      924.43             360.4   \n",
       "238                                      363.82             177.0   \n",
       "106                                      754.11             276.0   \n",
       "207                                     1357.13             203.0   \n",
       "120                                      552.45             148.6   \n",
       "\n",
       "     Liczba osob aktywnych fizycznie  Indeks atrakcyjnosci wypozyczalni  \\\n",
       "338                            61699                         100.000000   \n",
       "6                              26854                          50.493777   \n",
       "157                            27236                          37.562750   \n",
       "238                            13851                          23.185291   \n",
       "106                            18044                          27.469950   \n",
       "207                            10930                          35.900409   \n",
       "120                            12486                          16.697462   \n",
       "\n",
       "     Indeks atrakcyjnosci salonu  \n",
       "338                   100.000000  \n",
       "6                      39.034348  \n",
       "157                    31.720466  \n",
       "238                    28.008471  \n",
       "106                    25.647798  \n",
       "207                    23.450737  \n",
       "120                    17.341849  "
      ]
     },
     "execution_count": 15,
     "metadata": {},
     "output_type": "execute_result"
    }
   ],
   "source": [
    "data.sort_values(by='Indeks atrakcyjnosci salonu', ascending=False).head(7)"
   ]
  },
  {
   "cell_type": "markdown",
   "metadata": {},
   "source": [
    "### Funkcja do obliczania przedziałów do histogramu:"
   ]
  },
  {
   "cell_type": "code",
   "execution_count": 16,
   "metadata": {},
   "outputs": [],
   "source": [
    "def calculate_bins(minVal, maxVal, num_bins):\n",
    "    step = int(math.ceil(( maxVal - minVal)/(num_bins)))\n",
    "    bins = list(range(int(minVal), int(maxVal)+step,step))\n",
    "    return bins"
   ]
  },
  {
   "cell_type": "markdown",
   "metadata": {},
   "source": [
    "### Histogram dla indeksu atrakcyjności wypożyczalni\n",
    "Jak można zauważyć zdecydowana większość powiatów miejści się w przedziale z najmniejszą atrakcyjnościa dla wypożyczalni, co ma odzwierciedlenie w realnym życiu, ponieważ tylko w najbardziej zaludnionych i bogatych miejscach czy też najczęściej odwiedzanych lokalizacjach znajdują się wypożczalnie z drogimi/ekskluzywnymi przedmiotami, a takich lokalizacji znajduje się niewiele w całej Polsce. Spowodowane jest to tym, że turyści są bardziej skłonni na wypożyczanie takich rzeczy jak elektryczne rowery, ponieważ przebywają w danej lokalizacji przez krótki okres czasu i są bardziej skłonni na wydawanie pieniędzy. Natomiast w najbardziej zaludnionych lokalizacjach gdzie również są wysokie średnie dochody istnieje zdecydowanie większa liczba potenjalnych klientów którzy skłonni są wypożyczyć taki rower. "
   ]
  },
  {
   "cell_type": "code",
   "execution_count": 17,
   "metadata": {},
   "outputs": [
    {
     "data": {
      "text/plain": [
       "<AxesSubplot:xlabel='Indeks atrakcyjnosci wypozyczalni', ylabel='Count'>"
      ]
     },
     "execution_count": 17,
     "metadata": {},
     "output_type": "execute_result"
    },
    {
     "data": {
      "image/png": "[encoded data removed]",
      "text/plain": [
       "<Figure size 432x288 with 1 Axes>"
      ]
     },
     "metadata": {
      "needs_background": "light"
     },
     "output_type": "display_data"
    }
   ],
   "source": [
    "bins = calculate_bins(data['Indeks atrakcyjnosci wypozyczalni'].min(), data['Indeks atrakcyjnosci wypozyczalni'].max(), 10)\n",
    "wypozyczalnia_hist = sns.histplot(data=data['Indeks atrakcyjnosci wypozyczalni'], bins = bins)\n",
    "wypozyczalnia_hist.set_xlim(int(data['Indeks atrakcyjnosci wypozyczalni'].min()),int(data['Indeks atrakcyjnosci wypozyczalni'].max()))\n",
    "wypozyczalnia_hist.set_xticks(bins)\n",
    "wypozyczalnia_hist.set_xticklabels(bins)\n",
    "wypozyczalnia_hist"
   ]
  },
  {
   "cell_type": "markdown",
   "metadata": {},
   "source": [
    "### Histogram dla indeksu atrakcyjności salonu\n",
    "Jak można zauważyć zdecydowana większość powiatów miejści się w przedziale z najmniejszą atrakcyjnościa dla salonu, co ma odzwierciedlenie w realnym życiu, ponieważ tylko w najbardziej zaludnionych czy też odwiedzanych lokalizacjach znajdują się salony/sklepy z drogimi/ekskluzywnymi przedmiotami, a takich lokalizacji znajduje się tylko kilknaście w całej polsce. Za taki przedmiot można uznać nowoczesny rower elektryczny."
   ]
  },
  {
   "cell_type": "code",
   "execution_count": 18,
   "metadata": {},
   "outputs": [
    {
     "data": {
      "text/plain": [
       "<AxesSubplot:xlabel='Indeks atrakcyjnosci salonu', ylabel='Count'>"
      ]
     },
     "execution_count": 18,
     "metadata": {},
     "output_type": "execute_result"
    },
    {
     "data": {
      "image/png": "[encoded data removed]",
      "text/plain": [
       "<Figure size 432x288 with 1 Axes>"
      ]
     },
     "metadata": {
      "needs_background": "light"
     },
     "output_type": "display_data"
    }
   ],
   "source": [
    "bins = calculate_bins(data['Indeks atrakcyjnosci salonu'].min(), data['Indeks atrakcyjnosci salonu'].max(), 10)\n",
    "sklep_hist = sns.histplot(data=data['Indeks atrakcyjnosci salonu'], bins = bins)\n",
    "sklep_hist.set_xlim(int(data['Indeks atrakcyjnosci salonu'].min()),int(data['Indeks atrakcyjnosci salonu'].max()))\n",
    "sklep_hist.set_xticks(bins)\n",
    "sklep_hist.set_xticklabels(bins)\n",
    "sklep_hist"
   ]
  },
  {
   "cell_type": "markdown",
   "metadata": {},
   "source": [
    "### TOP 5 najbardziej atrakcyjnych powiatów dla wypożyczalni\n",
    "1. m. st. Warszawa - najbardziej atrakcyjne ze względu na zdecydowanie największą ilość mieszkańców i ich wysoki dochód oraz bardzo dużą ilość turystów\n",
    "2. m. Kraków - jedno z najbardziej turystycznych miejsc w Polsce ponadto drugi najbardziej zaludniony powiat i wysoki średni dochód\n",
    "3. m. Wrocław - czwarty najbardziej zaludniony powiat z wysokim średnim dochodem ponadto z dużą liczbę odwiedzających turystów\n",
    "4. m. Gdańsk - jedno z najbardziej turystycznych miejsc w Polsce wraz z wysoki dochodem mieszkańców oraz wysoką liczbą mieszkańców\n",
    "5. tatrzański - jedno z powiatów z największą ilością odwiedzających turystów w Polsce"
   ]
  },
  {
   "cell_type": "code",
   "execution_count": 19,
   "metadata": {},
   "outputs": [
    {
     "data": {
      "text/html": [
       "<div>\n",
       "<style scoped>\n",
       "    .dataframe tbody tr th:only-of-type {\n",
       "        vertical-align: middle;\n",
       "    }\n",
       "\n",
       "    .dataframe tbody tr th {\n",
       "        vertical-align: top;\n",
       "    }\n",
       "\n",
       "    .dataframe thead th {\n",
       "        text-align: right;\n",
       "    }\n",
       "</style>\n",
       "<table border=\"1\" class=\"dataframe\">\n",
       "  <thead>\n",
       "    <tr style=\"text-align: right;\">\n",
       "      <th></th>\n",
       "      <th>area</th>\n",
       "      <th>Indeks atrakcyjnosci wypozyczalni</th>\n",
       "    </tr>\n",
       "  </thead>\n",
       "  <tbody>\n",
       "    <tr>\n",
       "      <th>338</th>\n",
       "      <td>Powiat m. st. Warszawa</td>\n",
       "      <td>100.000000</td>\n",
       "    </tr>\n",
       "    <tr>\n",
       "      <th>6</th>\n",
       "      <td>Powiat m.Kraków</td>\n",
       "      <td>50.493777</td>\n",
       "    </tr>\n",
       "    <tr>\n",
       "      <th>157</th>\n",
       "      <td>Powiat m.Wrocław</td>\n",
       "      <td>37.562750</td>\n",
       "    </tr>\n",
       "    <tr>\n",
       "      <th>207</th>\n",
       "      <td>Powiat m.Gdańsk</td>\n",
       "      <td>35.900409</td>\n",
       "    </tr>\n",
       "    <tr>\n",
       "      <th>21</th>\n",
       "      <td>Powiat tatrzański</td>\n",
       "      <td>28.632227</td>\n",
       "    </tr>\n",
       "  </tbody>\n",
       "</table>\n",
       "</div>"
      ],
      "text/plain": [
       "                       area  Indeks atrakcyjnosci wypozyczalni\n",
       "338  Powiat m. st. Warszawa                         100.000000\n",
       "6           Powiat m.Kraków                          50.493777\n",
       "157        Powiat m.Wrocław                          37.562750\n",
       "207         Powiat m.Gdańsk                          35.900409\n",
       "21        Powiat tatrzański                          28.632227"
      ]
     },
     "execution_count": 19,
     "metadata": {},
     "output_type": "execute_result"
    }
   ],
   "source": [
    "indeks_atrakcyjnosci_wypozyczalni = data[[\"area\", \"Indeks atrakcyjnosci wypozyczalni\"]]\n",
    "indeks_atrakcyjnosci_wypozyczalni.sort_values(by='Indeks atrakcyjnosci wypozyczalni', ascending=False).head()"
   ]
  },
  {
   "cell_type": "markdown",
   "metadata": {},
   "source": [
    "### TOP 5 najbardziej atrakcyjnych powiatów dla salonu\n",
    "1. m. st. Warszawa - najbardziej atrakcyjne ze względu na zdecydowanie największą ilość mieszkańców i ich bardzo wysoki dochód oraz ponadto powiat z duża ilością odwiedzających turystów\n",
    "2. m. Kraków - drugi najbardziej zaludniony powiat z jednym z największych średnich dochód ponadto jedno z najbardziej turystycznych miejsc w Polsce \n",
    "3. m. Wrocław - powiat z jednym z najwiekszych średnich dochódów oraz czwarty najbardziej zaludniony powiat ponadto duża liczba odwiedzających turystów\n",
    "4. m. Łódź - trzeci najbardziej zaludniony powiat w Polsce z średnio wysokim średnim dochodem na mieszkańca \n",
    "5. m. Poznań - piąty najbardziej zaludniony powiat w Polsce z wysokim średnim dochodem na mieszkańca"
   ]
  },
  {
   "cell_type": "code",
   "execution_count": 20,
   "metadata": {},
   "outputs": [
    {
     "data": {
      "text/html": [
       "<div>\n",
       "<style scoped>\n",
       "    .dataframe tbody tr th:only-of-type {\n",
       "        vertical-align: middle;\n",
       "    }\n",
       "\n",
       "    .dataframe tbody tr th {\n",
       "        vertical-align: top;\n",
       "    }\n",
       "\n",
       "    .dataframe thead th {\n",
       "        text-align: right;\n",
       "    }\n",
       "</style>\n",
       "<table border=\"1\" class=\"dataframe\">\n",
       "  <thead>\n",
       "    <tr style=\"text-align: right;\">\n",
       "      <th></th>\n",
       "      <th>area</th>\n",
       "      <th>Indeks atrakcyjnosci salonu</th>\n",
       "    </tr>\n",
       "  </thead>\n",
       "  <tbody>\n",
       "    <tr>\n",
       "      <th>338</th>\n",
       "      <td>Powiat m. st. Warszawa</td>\n",
       "      <td>100.000000</td>\n",
       "    </tr>\n",
       "    <tr>\n",
       "      <th>6</th>\n",
       "      <td>Powiat m.Kraków</td>\n",
       "      <td>39.034348</td>\n",
       "    </tr>\n",
       "    <tr>\n",
       "      <th>157</th>\n",
       "      <td>Powiat m.Wrocław</td>\n",
       "      <td>31.720466</td>\n",
       "    </tr>\n",
       "    <tr>\n",
       "      <th>238</th>\n",
       "      <td>Powiat m.Łódź</td>\n",
       "      <td>28.008471</td>\n",
       "    </tr>\n",
       "    <tr>\n",
       "      <th>106</th>\n",
       "      <td>Powiat m.Poznań</td>\n",
       "      <td>25.647798</td>\n",
       "    </tr>\n",
       "  </tbody>\n",
       "</table>\n",
       "</div>"
      ],
      "text/plain": [
       "                       area  Indeks atrakcyjnosci salonu\n",
       "338  Powiat m. st. Warszawa                   100.000000\n",
       "6           Powiat m.Kraków                    39.034348\n",
       "157        Powiat m.Wrocław                    31.720466\n",
       "238           Powiat m.Łódź                    28.008471\n",
       "106         Powiat m.Poznań                    25.647798"
      ]
     },
     "execution_count": 20,
     "metadata": {},
     "output_type": "execute_result"
    }
   ],
   "source": [
    "indeks_atrakcyjnosci_sklepu = data[[\"area\", \"Indeks atrakcyjnosci salonu\"]]\n",
    "indeks_atrakcyjnosci_sklepu.sort_values(by='Indeks atrakcyjnosci salonu', ascending=False).head()"
   ]
  },
  {
   "cell_type": "markdown",
   "metadata": {},
   "source": [
    "### Zapis indeksów atrakcyjności do pliku .csv:"
   ]
  },
  {
   "cell_type": "code",
   "execution_count": 21,
   "metadata": {},
   "outputs": [],
   "source": [
    "data[[\"area\", \"Indeks atrakcyjnosci wypozyczalni\", \"Indeks atrakcyjnosci salonu\"]].to_csv('indeksy_atrakcyjnosci.csv', index=False, encoding='utf-16')"
   ]
  },
  {
   "cell_type": "markdown",
   "metadata": {},
   "source": [
    "### Odczyt indeksów atrakcyjności z pliku .csv:"
   ]
  },
  {
   "cell_type": "code",
   "execution_count": 22,
   "metadata": {},
   "outputs": [],
   "source": [
    "readDf = pd.read_csv('indeksy_atrakcyjnosci.csv',  encoding='utf-16')"
   ]
  },
  {
   "cell_type": "code",
   "execution_count": 23,
   "metadata": {},
   "outputs": [
    {
     "data": {
      "text/html": [
       "<div>\n",
       "<style scoped>\n",
       "    .dataframe tbody tr th:only-of-type {\n",
       "        vertical-align: middle;\n",
       "    }\n",
       "\n",
       "    .dataframe tbody tr th {\n",
       "        vertical-align: top;\n",
       "    }\n",
       "\n",
       "    .dataframe thead th {\n",
       "        text-align: right;\n",
       "    }\n",
       "</style>\n",
       "<table border=\"1\" class=\"dataframe\">\n",
       "  <thead>\n",
       "    <tr style=\"text-align: right;\">\n",
       "      <th></th>\n",
       "      <th>area</th>\n",
       "      <th>Indeks atrakcyjnosci wypozyczalni</th>\n",
       "      <th>Indeks atrakcyjnosci salonu</th>\n",
       "    </tr>\n",
       "  </thead>\n",
       "  <tbody>\n",
       "    <tr>\n",
       "      <th>338</th>\n",
       "      <td>Powiat m. st. Warszawa</td>\n",
       "      <td>100.000000</td>\n",
       "      <td>100.000000</td>\n",
       "    </tr>\n",
       "    <tr>\n",
       "      <th>6</th>\n",
       "      <td>Powiat m.Kraków</td>\n",
       "      <td>50.493777</td>\n",
       "      <td>39.034348</td>\n",
       "    </tr>\n",
       "    <tr>\n",
       "      <th>157</th>\n",
       "      <td>Powiat m.Wrocław</td>\n",
       "      <td>37.562750</td>\n",
       "      <td>31.720466</td>\n",
       "    </tr>\n",
       "    <tr>\n",
       "      <th>238</th>\n",
       "      <td>Powiat m.Łódź</td>\n",
       "      <td>23.185291</td>\n",
       "      <td>28.008471</td>\n",
       "    </tr>\n",
       "    <tr>\n",
       "      <th>106</th>\n",
       "      <td>Powiat m.Poznań</td>\n",
       "      <td>27.469950</td>\n",
       "      <td>25.647798</td>\n",
       "    </tr>\n",
       "  </tbody>\n",
       "</table>\n",
       "</div>"
      ],
      "text/plain": [
       "                       area  Indeks atrakcyjnosci wypozyczalni  \\\n",
       "338  Powiat m. st. Warszawa                         100.000000   \n",
       "6           Powiat m.Kraków                          50.493777   \n",
       "157        Powiat m.Wrocław                          37.562750   \n",
       "238           Powiat m.Łódź                          23.185291   \n",
       "106         Powiat m.Poznań                          27.469950   \n",
       "\n",
       "     Indeks atrakcyjnosci salonu  \n",
       "338                   100.000000  \n",
       "6                      39.034348  \n",
       "157                    31.720466  \n",
       "238                    28.008471  \n",
       "106                    25.647798  "
      ]
     },
     "execution_count": 23,
     "metadata": {},
     "output_type": "execute_result"
    }
   ],
   "source": [
    "readDf.sort_values(by='Indeks atrakcyjnosci salonu', ascending=False).head()"
   ]
  },
  {
   "cell_type": "code",
   "execution_count": null,
   "metadata": {},
   "outputs": [],
   "source": []
  },
  {
   "cell_type": "code",
   "execution_count": null,
   "metadata": {},
   "outputs": [],
   "source": []
  },
  {
   "cell_type": "code",
   "execution_count": null,
   "metadata": {},
   "outputs": [],
   "source": []
  }
 ],
 "metadata": {
  "kernelspec": {
   "display_name": "Python 3",
   "language": "python",
   "name": "python3"
  },
  "language_info": {
   "codemirror_mode": {
    "name": "ipython",
    "version": 3
   },
   "file_extension": ".py",
   "mimetype": "text/x-python",
   "name": "python",
   "nbconvert_exporter": "python",
   "pygments_lexer": "ipython3",
   "version": "3.8.5"
  }
 },
 "nbformat": 4,
 "nbformat_minor": 4
}
